{
  "nbformat": 4,
  "nbformat_minor": 0,
  "metadata": {
    "colab": {
      "provenance": [],
      "authorship_tag": "ABX9TyOePvWFoxUeWDZMxlgVEUWd",
      "include_colab_link": true
    },
    "kernelspec": {
      "name": "python3",
      "display_name": "Python 3"
    },
    "language_info": {
      "name": "python"
    }
  },
  "cells": [
    {
      "cell_type": "markdown",
      "metadata": {
        "id": "view-in-github",
        "colab_type": "text"
      },
      "source": [
        "<a href=\"https://colab.research.google.com/github/BhavyaHarika12/text-emotion-detection/blob/main/emotion_detection.ipynb\" target=\"_parent\"><img src=\"https://colab.research.google.com/assets/colab-badge.svg\" alt=\"Open In Colab\"/></a>"
      ]
    },
    {
      "cell_type": "code",
      "execution_count": null,
      "metadata": {
        "id": "keKH-GioOb5c"
      },
      "outputs": [],
      "source": [
        "import pandas as pd\n",
        "import numpy as np\n",
        "import keras\n",
        "import tensorflow\n",
        "from keras.preprocessing.text import Tokenizer\n",
        "from tensorflow.keras.preprocessing.sequence import pad_sequences\n",
        "from sklearn.preprocessing import LabelEncoder\n",
        "from sklearn.model_selection import train_test_split\n",
        "from keras.models import Sequential\n",
        "from keras.layers import Embedding, Flatten, Dense"
      ]
    },
    {
      "cell_type": "code",
      "source": [
        "data = pd.read_csv(\"train.txt\", sep=';')\n",
        "data.columns = [\"Text\", \"Emotions\"]\n",
        "print(data.head())"
      ],
      "metadata": {
        "colab": {
          "base_uri": "https://localhost:8080/"
        },
        "id": "WyMITivqOtYf",
        "outputId": "b8fae0d4-d9ef-41a2-f4e4-abf5bf135c71"
      },
      "execution_count": null,
      "outputs": [
        {
          "output_type": "stream",
          "name": "stdout",
          "text": [
            "                                                Text Emotions\n",
            "0  i can go from feeling so hopeless to so damned...  sadness\n",
            "1   im grabbing a minute to post i feel greedy wrong    anger\n",
            "2  i am ever feeling nostalgic about the fireplac...     love\n",
            "3                               i am feeling grouchy    anger\n",
            "4  ive been feeling a little burdened lately wasn...  sadness\n"
          ]
        }
      ]
    },
    {
      "cell_type": "code",
      "source": [
        "texts = data[\"Text\"].tolist()\n",
        "labels = data[\"Emotions\"].tolist()\n",
        "#Tokenize the text data\n",
        "tokenizer = Tokenizer()\n",
        "tokenizer.fit_on_texts(texts)"
      ],
      "metadata": {
        "id": "laZKfOX8Ox1Q"
      },
      "execution_count": null,
      "outputs": []
    },
    {
      "cell_type": "code",
      "source": [
        "sequences = tokenizer.texts_to_sequences(texts)\n",
        "max_length = max([len(seq) for seq in sequences])\n",
        "padded_sequences = pad_sequences(sequences, maxlen=max_length)"
      ],
      "metadata": {
        "id": "heY0hSZcO80p"
      },
      "execution_count": null,
      "outputs": []
    },
    {
      "cell_type": "code",
      "source": [
        "#Encode the string labels to integers\n",
        "label_encoder = LabelEncoder()\n",
        "labels = label_encoder.fit_transform(labels)"
      ],
      "metadata": {
        "id": "XE7L4NKIPB6J"
      },
      "execution_count": null,
      "outputs": []
    },
    {
      "cell_type": "code",
      "source": [
        "#One-hot encode the labels\n",
        "one_hot_labels = keras.utils.to_categorical(labels)"
      ],
      "metadata": {
        "id": "JBVsAJqKPNHa"
      },
      "execution_count": null,
      "outputs": []
    },
    {
      "cell_type": "code",
      "source": [
        "xtrain, xtest, ytrain, ytest = train_test_split(padded_sequences,one_hot_labels,test_size=0.2)"
      ],
      "metadata": {
        "id": "5qhq0a1aPTuU"
      },
      "execution_count": null,
      "outputs": []
    },
    {
      "cell_type": "code",
      "source": [
        "model = Sequential()\n",
        "model.add(Embedding(input_dim=len(tokenizer.word_index) + 1,output_dim=128, input_length=max_length))\n",
        "model.add(Flatten())\n",
        "model.add(Dense(units=128, activation=\"relu\"))\n",
        "model.add(Dense(units=len(one_hot_labels[0]), activation=\"softmax\"))\n",
        "model.compile(optimizer=\"adam\", loss=\"categorical_crossentropy\", metrics=[\"accuracy\"])\n",
        "model.fit(xtrain, ytrain, epochs=10, batch_size=32, validation_data=(xtest, ytest))"
      ],
      "metadata": {
        "colab": {
          "base_uri": "https://localhost:8080/"
        },
        "id": "CSl2f1iDPd8X",
        "outputId": "5bf552d8-5eb0-4007-bb2f-26cb917c04bc"
      },
      "execution_count": null,
      "outputs": [
        {
          "output_type": "stream",
          "name": "stdout",
          "text": [
            "Epoch 1/10\n",
            "400/400 [==============================] - 19s 45ms/step - loss: 1.3301 - accuracy: 0.4776 - val_loss: 0.8171 - val_accuracy: 0.7125\n",
            "Epoch 2/10\n",
            "400/400 [==============================] - 18s 44ms/step - loss: 0.3487 - accuracy: 0.8871 - val_loss: 0.5125 - val_accuracy: 0.8334\n",
            "Epoch 3/10\n",
            "400/400 [==============================] - 19s 49ms/step - loss: 0.0634 - accuracy: 0.9846 - val_loss: 0.5787 - val_accuracy: 0.8281\n",
            "Epoch 4/10\n",
            "400/400 [==============================] - 18s 45ms/step - loss: 0.0229 - accuracy: 0.9945 - val_loss: 0.5707 - val_accuracy: 0.8350\n",
            "Epoch 5/10\n",
            "400/400 [==============================] - 18s 45ms/step - loss: 0.0168 - accuracy: 0.9966 - val_loss: 0.6447 - val_accuracy: 0.8269\n",
            "Epoch 6/10\n",
            "400/400 [==============================] - 18s 45ms/step - loss: 0.0151 - accuracy: 0.9970 - val_loss: 0.6532 - val_accuracy: 0.8288\n",
            "Epoch 7/10\n",
            "400/400 [==============================] - 17s 42ms/step - loss: 0.0130 - accuracy: 0.9973 - val_loss: 0.6713 - val_accuracy: 0.8341\n",
            "Epoch 8/10\n",
            "400/400 [==============================] - 18s 45ms/step - loss: 0.0093 - accuracy: 0.9980 - val_loss: 0.6652 - val_accuracy: 0.8297\n",
            "Epoch 9/10\n",
            "400/400 [==============================] - 17s 41ms/step - loss: 0.0103 - accuracy: 0.9977 - val_loss: 0.7491 - val_accuracy: 0.8234\n",
            "Epoch 10/10\n",
            "400/400 [==============================] - 17s 42ms/step - loss: 0.0096 - accuracy: 0.9978 - val_loss: 0.7053 - val_accuracy: 0.8309\n"
          ]
        },
        {
          "output_type": "execute_result",
          "data": {
            "text/plain": [
              "<keras.callbacks.History at 0x79f64dd6e0b0>"
            ]
          },
          "metadata": {},
          "execution_count": 8
        }
      ]
    },
    {
      "cell_type": "code",
      "source": [
        "input_text=\"i feel so carefree nowwwwww\"\n",
        "#Preprocess the input text\n",
        "input_sequence = tokenizer.texts_to_sequences([input_text])\n",
        "padded_input_sequence = pad_sequences(input_sequence,maxlen=max_length)\n",
        "prediction = model.predict(padded_input_sequence)\n",
        "predicted_label = label_encoder.inverse_transform([np.argmax(prediction[0])])\n",
        "print(predicted_label)"
      ],
      "metadata": {
        "colab": {
          "base_uri": "https://localhost:8080/"
        },
        "id": "dlpP_ebEQtDn",
        "outputId": "cbb7ced1-42d7-4911-9684-1ccefb539631"
      },
      "execution_count": null,
      "outputs": [
        {
          "output_type": "stream",
          "name": "stdout",
          "text": [
            "1/1 [==============================] - 0s 22ms/step\n",
            "['joy']\n"
          ]
        }
      ]
    }
  ]
}